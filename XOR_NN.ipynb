{
  "nbformat": 4,
  "nbformat_minor": 0,
  "metadata": {
    "colab": {
      "name": "XOR_NN.ipynb",
      "provenance": [],
      "collapsed_sections": []
    },
    "kernelspec": {
      "name": "python3",
      "display_name": "Python 3"
    },
    "language_info": {
      "name": "python"
    }
  },
  "cells": [
    {
      "cell_type": "code",
      "execution_count": 17,
      "metadata": {
        "id": "3LQoQk9leK_H"
      },
      "outputs": [],
      "source": [
        "import numpy as np"
      ]
    },
    {
      "cell_type": "code",
      "source": [
        "#Defining functions\n",
        "def sigmoid(z):\n",
        "    return 1/(1+np.exp(-z))\n",
        "\n",
        "def sigmoid_derivative(z):\n",
        "    return np.multiply(sigmoid(z), sigmoid(1.0-z))\n",
        "\n",
        "def func(a):\n",
        "\n",
        "    theta1=2*np.random.random([2,3])*a - a\n",
        "\n",
        "    theta2=2*np.random.random([1,3])*a - a\n",
        "\n",
        "    theta1=np.mat(theta1)#converting into matrix\n",
        "    theta2=np.mat(theta2)\n",
        "\n",
        "    return theta1,theta2\n",
        "\n",
        "def fit_func(X, Y, theta1,theta2, predict=False, x=None):\n",
        "    \n",
        "    grad1=np.mat(np.zeros(np.shape(theta1)))\n",
        "    \n",
        "    grad2=np.mat(np.zeros(np.shape(theta2)))\n",
        "\n",
        "    for i in range(len(X)):\n",
        "        x = x if predict else X[i]\n",
        "        y = Y[0,i]\n",
        "        a=x\n",
        "        a1=np.mat(np.append(1, x)).T\n",
        "        z2=theta1*a1\n",
        "        a2=sigmoid(z2)\n",
        "        a2=np.mat(np.append(1, a2)).T\n",
        "        z3=theta2*a2\n",
        "        a3=sigmoid(z3)\n",
        "\n",
        "        if predict: \n",
        "            return a3\n",
        "   \n",
        "       #Gradient Descnt\n",
        "\n",
        "        del3 = a3 - y.T\n",
        "        grad2 += del3 * a2.T\n",
        "        del2 = np.multiply(theta2.T*del3, sigmoid_derivative(a2))\n",
        "        grad1 += (del2[1:] * a1.T)\n",
        "\n",
        "    return grad1,grad2\n",
        "\n",
        "\n",
        "def predict(x):\n",
        "    return fit_func(X, Y, theta1,theta2, True, x)\n",
        "\n",
        "\n",
        "X = np.mat([[0,0],\n",
        "            [0,1],\n",
        "            [1,0],\n",
        "            [1,1]])\n",
        "\n",
        "Y = np.mat([0,1,1,0])\n",
        "\n",
        "epochs = 10000\n",
        "l_r = 0.95  #learning rate\n",
        "a = 1  #norm_\n",
        "\n",
        "theta1,theta2 = func(a)\n",
        "\n",
        "for i in range(epochs):\n",
        "    g1,g2 = fit_func(X, Y, theta1,theta2)\n",
        "\n",
        "    theta1 -= l_r * g1  #Updating values\n",
        "    theta2 -= l_r * g2\n",
        "\n",
        "\n",
        "\n",
        "for i in range(len(X)):\n",
        "    x = X[i]\n",
        "    print(x, \":\", predict(x))"
      ],
      "metadata": {
        "colab": {
          "base_uri": "https://localhost:8080/"
        },
        "id": "VJv-bjq0pWfq",
        "outputId": "3fe73bd9-1a1e-4ef0-f072-0b7af9e62808"
      },
      "execution_count": 31,
      "outputs": [
        {
          "output_type": "stream",
          "name": "stdout",
          "text": [
            "[[0 0]] : [[0.00166615]]\n",
            "[[0 1]] : [[0.99839415]]\n",
            "[[1 0]] : [[0.99839371]]\n",
            "[[1 1]] : [[0.00166614]]\n"
          ]
        }
      ]
    },
    {
      "cell_type": "code",
      "source": [
        ""
      ],
      "metadata": {
        "id": "tD8UcEjipeKi"
      },
      "execution_count": 31,
      "outputs": []
    },
    {
      "cell_type": "code",
      "source": [
        ""
      ],
      "metadata": {
        "id": "mIhxaSWipg-3"
      },
      "execution_count": null,
      "outputs": []
    }
  ]
}